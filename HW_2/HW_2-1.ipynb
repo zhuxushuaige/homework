{
 "cells": [
  {
   "cell_type": "code",
   "execution_count": 1,
   "id": "d76b0a68",
   "metadata": {},
   "outputs": [
    {
     "data": {
      "text/plain": [
       "{'cells': [],\n",
       " 'metadata': {'kernelspec': {'display_name': 'Python 3',\n",
       "   'language': 'python',\n",
       "   'name': 'python3'},\n",
       "  'language_info': {'name': 'python', 'version': '3.9.0'}},\n",
       " 'nbformat': 4,\n",
       " 'nbformat_minor': 5}"
      ]
     },
     "execution_count": 1,
     "metadata": {},
     "output_type": "execute_result"
    }
   ],
   "source": [
    "{\n",
    "  \"cells\": [],\n",
    "  \"metadata\": {\n",
    "    \"kernelspec\": {\n",
    "      \"display_name\": \"Python 3\",\n",
    "      \"language\": \"python\",\n",
    "      \"name\": \"python3\"\n",
    "    },\n",
    "    \"language_info\": {\n",
    "      \"name\": \"python\",\n",
    "      \"version\": \"3.9.0\"\n",
    "    }\n",
    "  },\n",
    "  \"nbformat\": 4,\n",
    "  \"nbformat_minor\": 5\n",
    "}"
   ]
  },
  {
   "cell_type": "code",
   "execution_count": 2,
   "id": "c10aadbc",
   "metadata": {},
   "outputs": [
    {
     "name": "stdout",
     "output_type": "stream",
     "text": [
      "Loading data ...\n",
      "Size of training data: (1229932, 429)\n",
      "Size of testing data: (451552, 429)\n"
     ]
    }
   ],
   "source": [
    "import numpy as np\n",
    "\n",
    "print('Loading data ...')\n",
    "\n",
    "data_root='./timit_11/'\n",
    "train = np.load(data_root + 'train_11.npy')\n",
    "train_label = np.load(data_root + 'train_label_11.npy')\n",
    "test = np.load(data_root + 'test_11.npy')\n",
    "\n",
    "print('Size of training data: {}'.format(train.shape))\n",
    "print('Size of testing data: {}'.format(test.shape))"
   ]
  },
  {
   "cell_type": "markdown",
   "id": "21eabbef",
   "metadata": {},
   "source": [
    "封装TIMIT数据集"
   ]
  },
  {
   "cell_type": "code",
   "execution_count": 3,
   "id": "e32dfc47",
   "metadata": {},
   "outputs": [],
   "source": [
    "import torch\n",
    "from torch.utils.data import Dataset\n",
    "\n",
    "class TIMITDataset(Dataset):\n",
    "    def __init__(self, X, y=None):\n",
    "        self.data = torch.from_numpy(X).float()\n",
    "        if y is not None:\n",
    "            y = y.astype(np.int64)\n",
    "            self.label = torch.LongTensor(y)\n",
    "        else:\n",
    "            self.label = None\n",
    "\n",
    "    def __getitem__(self, idx):\n",
    "        if self.label is not None:\n",
    "            return self.data[idx], self.label[idx]\n",
    "        else:\n",
    "            return self.data[idx]\n",
    "\n",
    "    def __len__(self):\n",
    "        return len(self.data)"
   ]
  },
  {
   "cell_type": "markdown",
   "id": "c9649f0b",
   "metadata": {},
   "source": [
    "分成训练和测试数据集"
   ]
  },
  {
   "cell_type": "code",
   "execution_count": 4,
   "id": "1da473aa",
   "metadata": {},
   "outputs": [
    {
     "name": "stdout",
     "output_type": "stream",
     "text": [
      "Size of training set: (983945, 429)\n",
      "Size of validation set: (245987, 429)\n"
     ]
    }
   ],
   "source": [
    "VAL_RATIO = 0.2\n",
    "\n",
    "percent = int(train.shape[0] * (1 - VAL_RATIO))\n",
    "train_x, train_y, val_x, val_y = train[:percent], train_label[:percent], train[percent:], train_label[percent:]\n",
    "print('Size of training set: {}'.format(train_x.shape))\n",
    "print('Size of validation set: {}'.format(val_x.shape))"
   ]
  },
  {
   "cell_type": "code",
   "execution_count": 5,
   "id": "3233ec8a",
   "metadata": {},
   "outputs": [],
   "source": [
    "BATCH_SIZE = 64\n",
    "\n",
    "from torch.utils.data import DataLoader\n",
    "\n",
    "train_set = TIMITDataset(train_x, train_y)\n",
    "val_set = TIMITDataset(val_x, val_y)\n",
    "train_loader = DataLoader(train_set, batch_size=BATCH_SIZE, shuffle=True) #only shuffle the training data\n",
    "val_loader = DataLoader(val_set, batch_size=BATCH_SIZE, shuffle=False)"
   ]
  },
  {
   "cell_type": "markdown",
   "id": "21c70b46",
   "metadata": {},
   "source": [
    "模型"
   ]
  },
  {
   "cell_type": "code",
   "execution_count": 6,
   "id": "0ad66470",
   "metadata": {},
   "outputs": [],
   "source": [
    "import torch\n",
    "import torch.nn as nn\n",
    "\n",
    "class Classifier(nn.Module):\n",
    "    def __init__(self):\n",
    "        super(Classifier,self).__init__()\n",
    "        self.layer1 = nn.Linear(429,1024)\n",
    "        self.layer2 = nn.Linear(1024,512)\n",
    "        self.layer3 = nn.Linear(512,128)\n",
    "        self.out = nn.Linear(128,39)\n",
    "        \n",
    "        self.dropout = nn.Dropout(p=0.5)\n",
    "        \n",
    "        self.act_fn = nn.ReLU()\n",
    "        \n",
    "    def forward(self,x):\n",
    "        x = self.layer1(x)\n",
    "        x = self.act_fn(x)\n",
    "        x = self.dropout(x)\n",
    "        \n",
    "        x = self.layer2(x)\n",
    "        x = self.act_fn(x)\n",
    "        x = self.dropout(x)\n",
    "        \n",
    "        x = self.layer3(x)\n",
    "        x = self.act_fn(x)\n",
    "        \n",
    "        x = self.out(x)\n",
    "        \n",
    "        return x"
   ]
  },
  {
   "cell_type": "code",
   "execution_count": 7,
   "id": "0b6adff6",
   "metadata": {},
   "outputs": [],
   "source": [
    "def get_device():\n",
    "    return 'cuda' if torch.cuda.is_available() else 'cpu'"
   ]
  },
  {
   "cell_type": "code",
   "execution_count": 8,
   "id": "d16ede09",
   "metadata": {},
   "outputs": [],
   "source": [
    "def same_seeds(seed):\n",
    "    torch.manual_seed(seed)\n",
    "    if torch.cuda.is_available():\n",
    "        torch.cuda.manual_seed(seed)\n",
    "        torch.cuda.manual_seed_all(seed)\n",
    "    np.random.seed(seed)\n",
    "    torch.backends.cudnn.benchmark = False\n",
    "    torch.backends.cudnn.deterministic = True"
   ]
  },
  {
   "cell_type": "code",
   "execution_count": null,
   "id": "987163a4",
   "metadata": {},
   "outputs": [
    {
     "name": "stdout",
     "output_type": "stream",
     "text": [
      "Device: cuda\n",
      "[Epoch 1] Train Loss: 1.5064 Acc: 34.7386 | Val Loss: 1.1359 Acc: 41.4355\n",
      "[Epoch 2] Train Loss: 1.2720 Acc: 38.6786 | Val Loss: 1.0432 Acc: 43.0757\n",
      "[Epoch 3] Train Loss: 1.2058 Acc: 39.8321 | Val Loss: 0.9991 Acc: 43.8455\n",
      "[Epoch 4] Train Loss: 1.1634 Acc: 40.5512 | Val Loss: 0.9626 Acc: 44.3668\n",
      "[Epoch 5] Train Loss: 1.1335 Acc: 41.0740 | Val Loss: 0.9455 Acc: 44.6264\n",
      "[Epoch 6] Train Loss: 1.1104 Acc: 41.4273 | Val Loss: 0.9236 Acc: 45.0578\n",
      "[Epoch 7] Train Loss: 1.0930 Acc: 41.7460 | Val Loss: 0.9149 Acc: 45.1774\n",
      "[Epoch 8] Train Loss: 1.0790 Acc: 42.0144 | Val Loss: 0.8997 Acc: 45.4579\n",
      "[Epoch 9] Train Loss: 1.0633 Acc: 42.3103 | Val Loss: 0.8893 Acc: 45.5666\n",
      "[Epoch 10] Train Loss: 1.0542 Acc: 42.4114 | Val Loss: 0.8873 Acc: 45.6085\n",
      "[Epoch 11] Train Loss: 1.0446 Acc: 42.6260 | Val Loss: 0.8762 Acc: 45.9194\n",
      "[Epoch 12] Train Loss: 1.0348 Acc: 42.7638 | Val Loss: 0.8695 Acc: 45.9368\n",
      "[Epoch 13] Train Loss: 1.0276 Acc: 42.8922 | Val Loss: 0.8661 Acc: 46.0341\n",
      "[Epoch 14] Train Loss: 1.0195 Acc: 43.0175 | Val Loss: 0.8622 Acc: 46.0877\n",
      "[Epoch 15] Train Loss: 1.0137 Acc: 43.1358 | Val Loss: 0.8555 Acc: 46.1795\n",
      "[Epoch 16] Train Loss: 1.0059 Acc: 43.2561 | Val Loss: 0.8502 Acc: 46.3067\n",
      "[Epoch 17] Train Loss: 1.0012 Acc: 43.3647 | Val Loss: 0.8476 Acc: 46.3866\n",
      "[Epoch 18] Train Loss: 0.9950 Acc: 43.4557 | Val Loss: 0.8446 Acc: 46.4019\n",
      "[Epoch 19] Train Loss: 0.9912 Acc: 43.5088 | Val Loss: 0.8381 Acc: 46.4901\n",
      "[Epoch 20] Train Loss: 0.9860 Acc: 43.6090 | Val Loss: 0.8360 Acc: 46.6132\n"
     ]
    },
    {
     "ename": "TypeError",
     "evalue": "DataLoader.__init__() got an unexpected keyword argument 'weight_decay'",
     "output_type": "error",
     "traceback": [
      "\u001b[31m---------------------------------------------------------------------------\u001b[39m",
      "\u001b[31mTypeError\u001b[39m                                 Traceback (most recent call last)",
      "\u001b[36mCell\u001b[39m\u001b[36m \u001b[39m\u001b[32mIn[9]\u001b[39m\u001b[32m, line 69\u001b[39m\n\u001b[32m     67\u001b[39m \u001b[38;5;66;03m# testing\u001b[39;00m\n\u001b[32m     68\u001b[39m test_set = TIMITDataset(test)\n\u001b[32m---> \u001b[39m\u001b[32m69\u001b[39m test_loader = \u001b[43mDataLoader\u001b[49m\u001b[43m(\u001b[49m\u001b[43mtest_set\u001b[49m\u001b[43m,\u001b[49m\u001b[43m \u001b[49m\u001b[43mbatch_size\u001b[49m\u001b[43m=\u001b[49m\u001b[43mBATCH_SIZE\u001b[49m\u001b[43m,\u001b[49m\u001b[43m \u001b[49m\u001b[43mshuffle\u001b[49m\u001b[43m=\u001b[49m\u001b[38;5;28;43;01mFalse\u001b[39;49;00m\u001b[43m,\u001b[49m\u001b[43m \u001b[49m\u001b[43mweight_decay\u001b[49m\u001b[43m=\u001b[49m\u001b[32;43m1e-5\u001b[39;49m\u001b[43m)\u001b[49m\n\u001b[32m     71\u001b[39m model = Classifier().to(device)\n\u001b[32m     72\u001b[39m model.load_state_dict(torch.load(model_path))\n",
      "\u001b[31mTypeError\u001b[39m: DataLoader.__init__() got an unexpected keyword argument 'weight_decay'"
     ]
    }
   ],
   "source": [
    "same_seeds(0)\n",
    "\n",
    "device = get_device()\n",
    "print('Device:', device)\n",
    "\n",
    "# learning parameters\n",
    "num_epoch = 20\n",
    "learning_rate = 0.0001\n",
    "\n",
    "model_path = './model.pt'\n",
    "\n",
    "#the model we use to train\n",
    "model = Classifier().to(device)\n",
    "criterion = nn.CrossEntropyLoss()\n",
    "optimizer = torch.optim.Adam(model.parameters(),lr=learning_rate)\n",
    "\n",
    "best_acc = 0.0\n",
    "for epoch in range(num_epoch):\n",
    "    train_acc = 0.0\n",
    "    val_acc = 0.0\n",
    "    train_loss = 0.0\n",
    "    val_loss = 0.0\n",
    "    \n",
    "    # training\n",
    "    model.train()\n",
    "    for i,data in enumerate(train_loader):\n",
    "        inputs, labels = data\n",
    "        inputs, labels = inputs.to(device), labels.to(device)\n",
    "        optimizer.zero_grad()\n",
    "        outputs = model(inputs)\n",
    "        batch_loss = criterion(outputs, labels)\n",
    "        _,train_pred = torch.max(outputs,1)\n",
    "        batch_loss.backward()\n",
    "        optimizer.step()\n",
    "\n",
    "        train_loss += batch_loss.item()\n",
    "        train_acc += (train_pred == labels).sum().item()\n",
    "\n",
    "    # validation\n",
    "    model.eval()\n",
    "    with torch.no_grad():\n",
    "        for i,data in enumerate(val_loader):\n",
    "            inputs, labels = data\n",
    "            inputs, labels = inputs.to(device), labels.to(device)\n",
    "            outputs = model(inputs)\n",
    "            batch_loss = criterion(outputs, labels)\n",
    "            _,val_pred = torch.max(outputs,1)\n",
    "\n",
    "            val_loss += batch_loss.item()\n",
    "            val_acc += (val_pred == labels).sum().item()\n",
    "\n",
    "    print('[Epoch {}] Train Loss: {:.4f} Acc: {:.4f} | Val Loss: {:.4f} Acc: {:.4f}'.format(\n",
    "        epoch+1, train_loss/len(train_loader), train_acc/len(train_loader),\n",
    "        val_loss/len(val_loader), val_acc/len(val_loader)))\n",
    "    # save the best model\n",
    "    if val_acc > best_acc:\n",
    "        best_acc = val_acc\n",
    "        torch.save(model.state_dict(), model_path)\n",
    "\n",
    "if len(val_set) == 0:\n",
    "    torch.save(model.state_dict(), model_path)\n",
    "    print('No validation set, model saved.')\n",
    "    \n",
    "    \n",
    "    \n",
    "    \n",
    "# testing\n",
    "test_set = TIMITDataset(test)\n",
    "test_loader = DataLoader(test_set, batch_size=BATCH_SIZE, shuffle=False)\n",
    "\n",
    "model = Classifier().to(device)\n",
    "model.load_state_dict(torch.load(model_path))\n",
    "\n",
    "\n",
    "# predict test set\n",
    "predict = []\n",
    "model.eval()\n",
    "with torch.no_grad():\n",
    "    for i,data in enumerate(test_loader):\n",
    "        inputs = data\n",
    "        inputs = inputs.to(device)\n",
    "        outputs = model(inputs)\n",
    "        _,test_pred = torch.max(outputs,1)\n",
    "        \n",
    "        for y in test_pred.cpu().numpy():\n",
    "            predict.append(y)\n"
   ]
  },
  {
   "cell_type": "code",
   "execution_count": null,
   "id": "6bf830e0",
   "metadata": {},
   "outputs": [
    {
     "data": {
      "text/plain": [
       "1988"
      ]
     },
     "execution_count": 21,
     "metadata": {},
     "output_type": "execute_result"
    }
   ],
   "source": [
    "import gc\n",
    "\n",
    "del train, train_label, train_x, train_y, val_x, val_y\n",
    "gc.collect()"
   ]
  }
 ],
 "metadata": {
  "kernelspec": {
   "display_name": ".venv",
   "language": "python",
   "name": "python3"
  },
  "language_info": {
   "codemirror_mode": {
    "name": "ipython",
    "version": 3
   },
   "file_extension": ".py",
   "mimetype": "text/x-python",
   "name": "python",
   "nbconvert_exporter": "python",
   "pygments_lexer": "ipython3",
   "version": "3.13.1"
  }
 },
 "nbformat": 4,
 "nbformat_minor": 5
}
